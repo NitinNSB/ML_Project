{
 "cells": [
  {
   "cell_type": "code",
   "execution_count": null,
   "id": "6dbccd7b-b9f4-4703-a96d-9391522b0da3",
   "metadata": {},
   "outputs": [],
   "source": [
    "import os\n",
    "import tarfile\n",
    "import pandas as pd\n",
    "from sklearn.feature_extraction.text import TfidfVectorizer\n",
    "from sklearn.decomposition import LatentDirichletAllocation\n",
    "from sklearn.cluster import KMeans\n",
    "from nltk.corpus import stopwords\n",
    "from nltk.stem import WordNetLemmatizer\n",
    "from nltk.tokenize import word_tokenize\n",
    "import nltk\n",
    "import re"
   ]
  },
  {
   "cell_type": "code",
   "execution_count": null,
   "id": "339048c0-6bd0-4cae-983c-46bb6cd2842e",
   "metadata": {},
   "outputs": [],
   "source": [
    "# Download NLTK data files (only for the first time)\n",
    "nltk.download('punkt')\n",
    "nltk.download('stopwords')\n",
    "nltk.download('wordnet')"
   ]
  },
  {
   "cell_type": "code",
   "execution_count": null,
   "id": "25cd5de2-4327-41aa-befa-b7ab42968e8d",
   "metadata": {},
   "outputs": [],
   "source": [
    "data_path = \"C:\\\\Users\\\\Nitin\\\\Downloads\\\\twenty+newsgroups\\\\20_newsgroups.tar.gz\"\n",
    "extracted_path = \"C:\\\\Users\\\\Nitin\\\\Downloads\\\\twenty+newsgroups\\\\20_newsgroups\"\n",
    "\n",
    "if not os.path.exists(extracted_path):\n",
    "    with tarfile.open(data_path, 'r:gz') as tar:\n",
    "        tar.extractall(path=os.path.dirname(data_path))\n"
   ]
  },
  {
   "cell_type": "code",
   "execution_count": null,
   "id": "effd6d4c-8263-42b5-bba3-a426a4a69553",
   "metadata": {},
   "outputs": [],
   "source": [
    "# Load the data from the specific category\n",
    "category_path = os.path.join(extracted_path, 'misc.forsale')\n",
    "documents = []"
   ]
  },
  {
   "cell_type": "code",
   "execution_count": null,
   "id": "786844ee-35c9-422c-8e29-d4c441de6432",
   "metadata": {},
   "outputs": [],
   "source": [
    "for file_name in os.listdir(category_path):\n",
    "    file_path = os.path.join(category_path, file_name)\n",
    "    with open(file_path, 'r', encoding='latin1') as file:\n",
    "        documents.append(file.read())"
   ]
  },
  {
   "cell_type": "code",
   "execution_count": null,
   "id": "f497ad68-fcf8-43b9-92e1-1b5232886d37",
   "metadata": {},
   "outputs": [],
   "source": [
    "# Preprocess the text data\n",
    "stop_words = set(stopwords.words('english'))\n",
    "lemmatizer = WordNetLemmatizer()\n",
    "\n",
    "def preprocess(text):\n",
    "    # Remove non-alphabetic characters\n",
    "    text = re.sub(r'[^a-zA-Z\\s]', '', text, re.I|re.A)\n",
    "    text = text.lower()\n",
    "    text = text.strip()\n",
    "    \n",
    "    # Tokenize the text\n",
    "    tokens = word_tokenize(text)\n",
    "    \n",
    "    # Remove stop words and lemmatize\n",
    "    tokens = [lemmatizer.lemmatize(word) for word in tokens if word not in stop_words]\n",
    "    return ' '.join(tokens)"
   ]
  },
  {
   "cell_type": "code",
   "execution_count": null,
   "id": "c9776d48-b8c0-46ad-803a-2804c978e786",
   "metadata": {},
   "outputs": [],
   "source": [
    "documents = [preprocess(doc) for doc in documents]"
   ]
  },
  {
   "cell_type": "code",
   "execution_count": null,
   "id": "29ee3467-4b97-4452-b0a4-9d943d1c2dce",
   "metadata": {},
   "outputs": [],
   "source": [
    "# Convert the text data into numerical form using TF-IDF\n",
    "vectorizer = TfidfVectorizer(max_df=0.9, min_df=2, stop_words='english')\n",
    "X = vectorizer.fit_transform(documents)"
   ]
  },
  {
   "cell_type": "code",
   "execution_count": null,
   "id": "7a04225f-de96-4df9-a0e0-a40fc20c01ca",
   "metadata": {},
   "outputs": [],
   "source": [
    "# Apply LDA for topic modeling\n",
    "lda = LatentDirichletAllocation(n_components=10, random_state=42)\n",
    "lda.fit(X)"
   ]
  },
  {
   "cell_type": "code",
   "execution_count": null,
   "id": "db05d654-d861-4e10-96d7-119d4106af1c",
   "metadata": {},
   "outputs": [],
   "source": [
    "# Display the topics found by LDA\n",
    "def display_topics(model, feature_names, no_top_words):\n",
    "    for topic_idx, topic in enumerate(model.components_):\n",
    "        print(f\"Topic {topic_idx}:\")\n",
    "        print(\" \".join([feature_names[i] for i in topic.argsort()[:-no_top_words - 1:-1]]))\n",
    "\n",
    "no_top_words = 10\n",
    "display_topics(lda, vectorizer.get_feature_names_out(), no_top_words)"
   ]
  },
  {
   "cell_type": "code",
   "execution_count": null,
   "id": "5d9bf401-3a6c-42d5-9a06-94b68e7d33f0",
   "metadata": {},
   "outputs": [],
   "source": [
    "# Apply K-means for document clustering\n",
    "num_clusters = 10\n",
    "km = KMeans(n_clusters=num_clusters, random_state=42)\n",
    "km.fit(X)"
   ]
  },
  {
   "cell_type": "code",
   "execution_count": null,
   "id": "559f1e59-e7c8-4b3d-bdd4-a713bf72f630",
   "metadata": {},
   "outputs": [],
   "source": [
    "# Attach the cluster labels to the documents\n",
    "df = pd.DataFrame({'Document': documents, 'Cluster': km.labels_})"
   ]
  },
  {
   "cell_type": "code",
   "execution_count": null,
   "id": "51638d3d-1aa4-4a1c-ab5b-1b642c45b347",
   "metadata": {},
   "outputs": [],
   "source": [
    "# Display the clustering results\n",
    "print(df.head())"
   ]
  },
  {
   "cell_type": "code",
   "execution_count": null,
   "id": "272572b8-84e3-4cd3-9a1d-e2d73ec01190",
   "metadata": {},
   "outputs": [],
   "source": [
    "# Save the clustering results to a CSV file\n",
    "df.to_csv('C:\\\\Users\\\\Nitin\\\\Downloads\\\\document_clusters.csv', index=False)"
   ]
  }
 ],
 "metadata": {
  "kernelspec": {
   "display_name": "Python 3 (ipykernel)",
   "language": "python",
   "name": "python3"
  },
  "language_info": {
   "codemirror_mode": {
    "name": "ipython",
    "version": 3
   },
   "file_extension": ".py",
   "mimetype": "text/x-python",
   "name": "python",
   "nbconvert_exporter": "python",
   "pygments_lexer": "ipython3",
   "version": "3.12.1"
  }
 },
 "nbformat": 4,
 "nbformat_minor": 5
}
